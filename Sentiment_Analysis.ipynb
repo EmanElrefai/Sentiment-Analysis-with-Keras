{
  "nbformat": 4,
  "nbformat_minor": 0,
  "metadata": {
    "colab": {
      "name": "Sentiment Analysis.ipynb",
      "provenance": [],
      "collapsed_sections": [],
      "authorship_tag": "ABX9TyN32QyZuxHR1mATzULKWxuI",
      "include_colab_link": true
    },
    "kernelspec": {
      "name": "python3",
      "display_name": "Python 3"
    }
  },
  "cells": [
    {
      "cell_type": "markdown",
      "metadata": {
        "id": "view-in-github",
        "colab_type": "text"
      },
      "source": [
        "<a href=\"https://colab.research.google.com/github/emanlotfy52/Sentiment-Analysis-with-Keras/blob/master/Sentiment_Analysis.ipynb\" target=\"_parent\"><img src=\"https://colab.research.google.com/assets/colab-badge.svg\" alt=\"Open In Colab\"/></a>"
      ]
    },
    {
      "cell_type": "markdown",
      "metadata": {
        "id": "8XIln7tL1ia1",
        "colab_type": "text"
      },
      "source": [
        "# Dependencies\n"
      ]
    },
    {
      "cell_type": "code",
      "metadata": {
        "id": "z5_aVqzj1Smu",
        "colab_type": "code",
        "colab": {}
      },
      "source": [
        "import pandas as pd\n",
        "import numpy as np"
      ],
      "execution_count": 0,
      "outputs": []
    },
    {
      "cell_type": "markdown",
      "metadata": {
        "id": "XN5ihY2P13CK",
        "colab_type": "text"
      },
      "source": [
        "# Upload Dataset"
      ]
    },
    {
      "cell_type": "code",
      "metadata": {
        "id": "G9KOHrqx1c1D",
        "colab_type": "code",
        "outputId": "8c5d3c85-11b7-46ff-bfb8-f4391642a65e",
        "colab": {
          "resources": {
            "http://localhost:8080/nbextensions/google.colab/files.js": {
              "data": "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",
              "ok": true,
              "headers": [
                [
                  "content-type",
                  "application/javascript"
                ]
              ],
              "status": 200,
              "status_text": ""
            }
          },
          "base_uri": "https://localhost:8080/",
          "height": 140
        }
      },
      "source": [
        "from google.colab import files\n",
        "Uploaded=files.upload()"
      ],
      "execution_count": 65,
      "outputs": [
        {
          "output_type": "display_data",
          "data": {
            "text/html": [
              "\n",
              "     <input type=\"file\" id=\"files-e6f5c1df-cc44-4631-9475-f2bd1f1abf58\" name=\"files[]\" multiple disabled />\n",
              "     <output id=\"result-e6f5c1df-cc44-4631-9475-f2bd1f1abf58\">\n",
              "      Upload widget is only available when the cell has been executed in the\n",
              "      current browser session. Please rerun this cell to enable.\n",
              "      </output>\n",
              "      <script src=\"/nbextensions/google.colab/files.js\"></script> "
            ],
            "text/plain": [
              "<IPython.core.display.HTML object>"
            ]
          },
          "metadata": {
            "tags": []
          }
        },
        {
          "output_type": "stream",
          "text": [
            "Saving amazon_cells_labelled.txt to amazon_cells_labelled (1).txt\n",
            "Saving imdb_labelled.txt to imdb_labelled (1).txt\n",
            "Saving yelp_labelled.txt to yelp_labelled (1).txt\n"
          ],
          "name": "stdout"
        }
      ]
    },
    {
      "cell_type": "code",
      "metadata": {
        "id": "u1Ng4ftQ2KiN",
        "colab_type": "code",
        "outputId": "5fecca4b-af6f-45f7-f354-61c25de18537",
        "colab": {
          "base_uri": "https://localhost:8080/",
          "height": 33
        }
      },
      "source": [
        "# to-check if it is uploaded \n",
        "!ls"
      ],
      "execution_count": 0,
      "outputs": [
        {
          "output_type": "stream",
          "text": [
            "amazon_cells_labelled.txt  imdb_labelled.txt  sample_data  yelp_labelled.txt\n"
          ],
          "name": "stdout"
        }
      ]
    },
    {
      "cell_type": "markdown",
      "metadata": {
        "id": "bTtJhdRQ2qw2",
        "colab_type": "text"
      },
      "source": [
        "# Cleaning Data\n"
      ]
    },
    {
      "cell_type": "code",
      "metadata": {
        "id": "TCTGcmzj2hSf",
        "colab_type": "code",
        "outputId": "4fcc436d-403d-414d-ecc6-ec99d1e73384",
        "colab": {
          "base_uri": "https://localhost:8080/",
          "height": 136
        }
      },
      "source": [
        "# getting rid of newlines \n",
        "with open(\"amazon_cells_labelled.txt\",'r') as text_file:\n",
        "  lines=text_file.read().split(\"\\n\")\n",
        "with open(\"imdb_labelled.txt\",'r') as text_file:\n",
        "  lines=text_file.read().split(\"\\n\")\n",
        "with open(\"yelp_labelled.txt\",'r') as text_file:\n",
        "  lines=text_file.read().split(\"\\n\")\n",
        "\n",
        "# split data to document and label \n",
        "newlines=[line.split(\"\\t\")for line in lines if len(line.split(\"t\"))==2 and line.split()[1]!=\"\"]\n",
        "train_documents= [line[0] for line in newlines]\n",
        "train_label=[int(line[1]) for line in newlines]\n",
        "\n",
        "# Viewing Data\n",
        "print(f'Dataset after cleanning \\n {newlines}')\n",
        "\n",
        "# Viewing train_documents \n",
        "print(f'train_documents\\n {train_documents}')\n",
        "\n",
        "# Viewing train_label\n",
        "print(f'train_label\\n {train_label}')\n",
        "\n",
        "\n",
        "\n"
      ],
      "execution_count": 0,
      "outputs": [
        {
          "output_type": "stream",
          "text": [
            "Dataset after cleanning \n",
            " [['Wow... Loved this place.', '1'], ['Service was very prompt.', '1'], ['Would not go back.', '0'], ['I was shocked because no signs indicate cash only.', '0'], ['Service is also cute.', '1'], ['So they performed.', '1'], ['- They never brought a salad we asked for.', '0'], ['This was like the final blow!', '0'], ['Ample portions and good prices.', '1'], ['The portion was huge!', '1'], ['The cocktails are all handmade and delicious.', '1'], [\"We'd definitely go back here again.\", '1'], ['We are so glad we found this place.', '1'], ['The scallop dish is quite appalling for value as well.', '0'], ['This place has it!', '1'], ['Everything was fresh and delicious!', '1'], ['Never been to Hard Rock Casino before, WILL NEVER EVER STEP FORWARD IN IT AGAIN!', '0'], ['The ambience is wonderful and there is music playing.', '1'], ['Nice, spicy and tender.', '1'], ['This place is way too overpriced for mediocre food.', '0'], ['Penne vodka excellent!', '1'], ['The management is rude.', '0'], ['I had a seriously solid breakfast here.', '1'], ['this place is good.', '1'], ['Bacon is hella salty.', '1'], ['The waitresses are very friendly.', '1'], ['When my order arrived, one of the gyros was missing.', '0'], ['Very friendly staff.', '1'], [\"The warm beer didn't help.\", '0'], ['Service is friendly and inviting.', '1'], ['Very good lunch spot.', '1'], [\"Won't go back.\", '0'], ['Soggy and not good.', '0'], ['The Jamaican mojitos are delicious.', '1'], ['- the food is rich so order accordingly.', '1'], ['The service was a bit lacking.', '0'], ['As for the \"mains,\" also uninspired.', '0'], ['Seriously flavorful delights, folks.', '1'], [\"Owner's are really great people.!\", '1'], ['The seafood was fresh and generous in portion.', '1'], [\"Plus, it's only 8 bucks.\", '1'], ['For a self proclaimed coffee cafe, I was wildly disappointed.', '0'], ['Service stinks here!', '0'], ['Great Pizza and Salads!', '1'], [\"I didn't know pulled pork could be soooo delicious.\", '1'], ['The food was excellent and service was very good.', '1'], ['All the bread is made in-house!', '1'], ['The only downside is the service.', '0'], ['Everything was gross.', '0'], ['I love this place.', '1'], ['Great service and food.', '1'], ['OMG, the food was delicioso!', '1'], ['He was terrible!', '0'], ['It was delicious!!!', '1'], [\"Best fish I've ever had in my life!\", '1'], ['He deserves 5 stars.', '1'], [\"I won't be back.\", '0'], ['They have great dinners.', '1'], ['The food was terrible.', '0'], [\"I will come back here every time I'm in Vegas.\", '1'], [\"I'll definitely be in soon again.\", '1'], ['Come hungry, leave happy and stuffed!', '1'], ['I really enjoyed eating here.', '1'], ['No complaints!', '1'], ['Waiter was a jerk.', '0'], ['definitely will come back here again.', '1'], ['Wow very spicy but delicious.', '1'], [\"I'll take my business dinner dollars elsewhere.\", '0'], [\"I'd love to go back.\", '1'], ['Nothing special.', '0'], ['Will not be back.', '0'], ['I was so insulted.', '0'], ['We loved the place.', '1'], ['The inside is really quite nice and very clean.', '1'], ['Very good, though!', '1'], ['Great pork sandwich.', '1'], [\"Third, the cheese on my friend's burger was cold.\", '0'], ['We enjoy their pizza and brunch.', '1'], ['I LOVED it!', '1'], ['Delicious and I will absolutely be back!', '1'], ['I will be back many times soon.', '1'], ['The waitress and manager are so friendly.', '1'], ['Thoroughly disappointed!', '0'], ['By far the BEST cheesecurds we have ever had!', '1'], ['The food is very good for your typical bar food.', '1'], [\"If you haven't gone here GO NOW!\", '1'], ['A greasy, unhealthy meal.', '0'], ['The bartender was also nice.', '1'], ['Terrible management.', '0'], ['I would recommend saving room for this!', '1'], ['A good time!', '1'], ['Our server was super nice and checked on us many times.', '1'], ['Over rated.', '0'], ['Their steaks are 100% recommended!', '1'], ['It was awesome.', '1'], ['My friend did not like his Bloody Mary.', '0'], ['Very disappointing!!!', '0'], ['Ambience is perfect.', '1'], ['This is a good joint.', '1'], ['Great food.', '1'], ['dont go here.', '0'], ['As a sushi lover avoid this place by all means.', '0'], ['Damn good steak.', '1'], ['Total brunch fail.', '0'], ['will definitely be back!', '1'], ['Went for lunch - service was slow.', '0'], ['I was mortified.', '0'], ['Needless to say, we will never be back here again.', '0'], ['The atmosphere here is fun.', '1'], ['They have a really nice atmosphere.', '1'], ['Awesome selection of beer.', '1'], ['Great food and awesome service!', '1'], ['It was way over fried.', '0'], ['Will not be back!', '0'], ['I\\'m so happy to be here!!!\"', '1'], ['We will not be coming back.', '0'], [\"Once your food arrives it's meh.\", '0'], ['The chips and salsa were really good, the salsa was very fresh.', '1'], ['This place is great!!!!!!!!!!!!!!', '1'], ['It was packed!!', '0'], ['I love this place.', '1'], ['The food was terrible.', '0'], ['This place should honestly be blown up.', '0'], [\"Won't ever go here again.\", '0'], ['Food quality has been horrible.', '0'], ['Best service and food ever, Maria our server was so good and friendly she made our day.', '1'], ['They were excellent.', '1'], ['Food is way overpriced and portions are fucking small.', '0'], [\"I won't be back.\", '0'], ['This place deserves no stars.', '0'], ['I probably would not go here again.', '0'], [\"I probably won't be coming back here.\", '0'], [\"Worst food/service I've had in a while.\", '0'], ['Always a pleasure dealing with him.', '1'], ['There was hardly any meat.', '0'], ['The service was terrible, food was mediocre.', '0'], ['We definately enjoyed ourselves.', '1'], ['The service was extremely slow.', '0'], ['Worst Thai ever.', '0'], ['The pizza selections are good.', '1'], ['Overall, a great experience.', '1'], ['And the drinks are WEAK, people!', '0'], ['This place is disgusting!', '0'], ['The RI style calamari was a joke.', '0'], ['Disappointing experience.', '0'], ['WAAAAAAyyyyyyyyyy over rated is all I am saying.', '0'], [\"We won't be going back.\", '0'], ['This place lacked style!!', '0'], ['The sangria was about half of a glass wine full and was $12, ridiculous.', '0'], ['It was equally awful.', '0'], ['I was VERY disappointed!!', '0'], [\"The food wasn't good.\", '0'], ['All in all, Ha Long Bay was a bit of a flop.', '0'], ['It lacked flavor, seemed undercooked, and dry.', '0'], ['Spend your money and time some place else.', '0']]\n",
            "train_documents\n",
            " ['Wow... Loved this place.', 'Service was very prompt.', 'Would not go back.', 'I was shocked because no signs indicate cash only.', 'Service is also cute.', 'So they performed.', '- They never brought a salad we asked for.', 'This was like the final blow!', 'Ample portions and good prices.', 'The portion was huge!', 'The cocktails are all handmade and delicious.', \"We'd definitely go back here again.\", 'We are so glad we found this place.', 'The scallop dish is quite appalling for value as well.', 'This place has it!', 'Everything was fresh and delicious!', 'Never been to Hard Rock Casino before, WILL NEVER EVER STEP FORWARD IN IT AGAIN!', 'The ambience is wonderful and there is music playing.', 'Nice, spicy and tender.', 'This place is way too overpriced for mediocre food.', 'Penne vodka excellent!', 'The management is rude.', 'I had a seriously solid breakfast here.', 'this place is good.', 'Bacon is hella salty.', 'The waitresses are very friendly.', 'When my order arrived, one of the gyros was missing.', 'Very friendly staff.', \"The warm beer didn't help.\", 'Service is friendly and inviting.', 'Very good lunch spot.', \"Won't go back.\", 'Soggy and not good.', 'The Jamaican mojitos are delicious.', '- the food is rich so order accordingly.', 'The service was a bit lacking.', 'As for the \"mains,\" also uninspired.', 'Seriously flavorful delights, folks.', \"Owner's are really great people.!\", 'The seafood was fresh and generous in portion.', \"Plus, it's only 8 bucks.\", 'For a self proclaimed coffee cafe, I was wildly disappointed.', 'Service stinks here!', 'Great Pizza and Salads!', \"I didn't know pulled pork could be soooo delicious.\", 'The food was excellent and service was very good.', 'All the bread is made in-house!', 'The only downside is the service.', 'Everything was gross.', 'I love this place.', 'Great service and food.', 'OMG, the food was delicioso!', 'He was terrible!', 'It was delicious!!!', \"Best fish I've ever had in my life!\", 'He deserves 5 stars.', \"I won't be back.\", 'They have great dinners.', 'The food was terrible.', \"I will come back here every time I'm in Vegas.\", \"I'll definitely be in soon again.\", 'Come hungry, leave happy and stuffed!', 'I really enjoyed eating here.', 'No complaints!', 'Waiter was a jerk.', 'definitely will come back here again.', 'Wow very spicy but delicious.', \"I'll take my business dinner dollars elsewhere.\", \"I'd love to go back.\", 'Nothing special.', 'Will not be back.', 'I was so insulted.', 'We loved the place.', 'The inside is really quite nice and very clean.', 'Very good, though!', 'Great pork sandwich.', \"Third, the cheese on my friend's burger was cold.\", 'We enjoy their pizza and brunch.', 'I LOVED it!', 'Delicious and I will absolutely be back!', 'I will be back many times soon.', 'The waitress and manager are so friendly.', 'Thoroughly disappointed!', 'By far the BEST cheesecurds we have ever had!', 'The food is very good for your typical bar food.', \"If you haven't gone here GO NOW!\", 'A greasy, unhealthy meal.', 'The bartender was also nice.', 'Terrible management.', 'I would recommend saving room for this!', 'A good time!', 'Our server was super nice and checked on us many times.', 'Over rated.', 'Their steaks are 100% recommended!', 'It was awesome.', 'My friend did not like his Bloody Mary.', 'Very disappointing!!!', 'Ambience is perfect.', 'This is a good joint.', 'Great food.', 'dont go here.', 'As a sushi lover avoid this place by all means.', 'Damn good steak.', 'Total brunch fail.', 'will definitely be back!', 'Went for lunch - service was slow.', 'I was mortified.', 'Needless to say, we will never be back here again.', 'The atmosphere here is fun.', 'They have a really nice atmosphere.', 'Awesome selection of beer.', 'Great food and awesome service!', 'It was way over fried.', 'Will not be back!', 'I\\'m so happy to be here!!!\"', 'We will not be coming back.', \"Once your food arrives it's meh.\", 'The chips and salsa were really good, the salsa was very fresh.', 'This place is great!!!!!!!!!!!!!!', 'It was packed!!', 'I love this place.', 'The food was terrible.', 'This place should honestly be blown up.', \"Won't ever go here again.\", 'Food quality has been horrible.', 'Best service and food ever, Maria our server was so good and friendly she made our day.', 'They were excellent.', 'Food is way overpriced and portions are fucking small.', \"I won't be back.\", 'This place deserves no stars.', 'I probably would not go here again.', \"I probably won't be coming back here.\", \"Worst food/service I've had in a while.\", 'Always a pleasure dealing with him.', 'There was hardly any meat.', 'The service was terrible, food was mediocre.', 'We definately enjoyed ourselves.', 'The service was extremely slow.', 'Worst Thai ever.', 'The pizza selections are good.', 'Overall, a great experience.', 'And the drinks are WEAK, people!', 'This place is disgusting!', 'The RI style calamari was a joke.', 'Disappointing experience.', 'WAAAAAAyyyyyyyyyy over rated is all I am saying.', \"We won't be going back.\", 'This place lacked style!!', 'The sangria was about half of a glass wine full and was $12, ridiculous.', 'It was equally awful.', 'I was VERY disappointed!!', \"The food wasn't good.\", 'All in all, Ha Long Bay was a bit of a flop.', 'It lacked flavor, seemed undercooked, and dry.', 'Spend your money and time some place else.']\n",
            "train_label\n",
            " [1, 1, 0, 0, 1, 1, 0, 0, 1, 1, 1, 1, 1, 0, 1, 1, 0, 1, 1, 0, 1, 0, 1, 1, 1, 1, 0, 1, 0, 1, 1, 0, 0, 1, 1, 0, 0, 1, 1, 1, 1, 0, 0, 1, 1, 1, 1, 0, 0, 1, 1, 1, 0, 1, 1, 1, 0, 1, 0, 1, 1, 1, 1, 1, 0, 1, 1, 0, 1, 0, 0, 0, 1, 1, 1, 1, 0, 1, 1, 1, 1, 1, 0, 1, 1, 1, 0, 1, 0, 1, 1, 1, 0, 1, 1, 0, 0, 1, 1, 1, 0, 0, 1, 0, 1, 0, 0, 0, 1, 1, 1, 1, 0, 0, 1, 0, 0, 1, 1, 0, 1, 0, 0, 0, 0, 1, 1, 0, 0, 0, 0, 0, 0, 1, 0, 0, 1, 0, 0, 1, 1, 0, 0, 0, 0, 0, 0, 0, 0, 0, 0, 0, 0, 0, 0]\n"
          ],
          "name": "stdout"
        }
      ]
    },
    {
      "cell_type": "markdown",
      "metadata": {
        "id": "w_7DhJwP6Dvb",
        "colab_type": "text"
      },
      "source": [
        "# Building Model"
      ]
    },
    {
      "cell_type": "markdown",
      "metadata": {
        "id": "Vg0t_sZc9yMk",
        "colab_type": "text"
      },
      "source": [
        "**Import CountVectorizer and Navie Bayes Algorithm:**"
      ]
    },
    {
      "cell_type": "code",
      "metadata": {
        "id": "c-fEvjnu4V8e",
        "colab_type": "code",
        "colab": {}
      },
      "source": [
        "from sklearn.feature_extraction.text import  CountVectorizer\n",
        "from sklearn.naive_bayes import BernoulliNB"
      ],
      "execution_count": 0,
      "outputs": []
    },
    {
      "cell_type": "markdown",
      "metadata": {
        "id": "8xBLBzgb93uJ",
        "colab_type": "text"
      },
      "source": [
        "**Convert the training set to a matrix of token counts:**"
      ]
    },
    {
      "cell_type": "code",
      "metadata": {
        "id": "kfw96BmQ6wmV",
        "colab_type": "code",
        "colab": {}
      },
      "source": [
        "# The CountVectorizer provides a simple way to both tokenize a collection of text documents and build a vocabulary of known words\n",
        "count_vectorizer=CountVectorizer(binary=\"true\")\n",
        "train_documents=count_vectorizer.fit_transform(train_documents)\n"
      ],
      "execution_count": 0,
      "outputs": []
    },
    {
      "cell_type": "code",
      "metadata": {
        "id": "uOS5hFln8e6g",
        "colab_type": "code",
        "outputId": "c3f51ca1-73f7-4b50-d32a-34bfe2f5e35f",
        "colab": {
          "base_uri": "https://localhost:8080/",
          "height": 866
        }
      },
      "source": [
        "print(train_documents)"
      ],
      "execution_count": 0,
      "outputs": [
        {
          "output_type": "stream",
          "text": [
            "  (0, 337)\t1\n",
            "  (0, 171)\t1\n",
            "  (0, 295)\t1\n",
            "  (0, 218)\t1\n",
            "  (1, 259)\t1\n",
            "  (1, 319)\t1\n",
            "  (1, 312)\t1\n",
            "  (1, 228)\t1\n",
            "  (2, 336)\t1\n",
            "  (2, 196)\t1\n",
            "  (2, 121)\t1\n",
            "  (2, 24)\t1\n",
            "  (3, 319)\t1\n",
            "  (3, 261)\t1\n",
            "  (3, 30)\t1\n",
            "  (3, 195)\t1\n",
            "  (3, 263)\t1\n",
            "  (3, 152)\t1\n",
            "  (3, 50)\t1\n",
            "  (3, 204)\t1\n",
            "  (4, 259)\t1\n",
            "  (4, 156)\t1\n",
            "  (4, 7)\t1\n",
            "  (4, 64)\t1\n",
            "  (5, 266)\t1\n",
            "  :\t:\n",
            "  (151, 320)\t1\n",
            "  (152, 319)\t1\n",
            "  (152, 6)\t1\n",
            "  (152, 151)\t1\n",
            "  (152, 199)\t1\n",
            "  (152, 35)\t1\n",
            "  (152, 129)\t1\n",
            "  (152, 169)\t1\n",
            "  (152, 28)\t1\n",
            "  (152, 105)\t1\n",
            "  (153, 12)\t1\n",
            "  (153, 157)\t1\n",
            "  (153, 163)\t1\n",
            "  (153, 103)\t1\n",
            "  (153, 253)\t1\n",
            "  (153, 304)\t1\n",
            "  (153, 86)\t1\n",
            "  (154, 218)\t1\n",
            "  (154, 12)\t1\n",
            "  (154, 298)\t1\n",
            "  (154, 339)\t1\n",
            "  (154, 273)\t1\n",
            "  (154, 188)\t1\n",
            "  (154, 269)\t1\n",
            "  (154, 88)\t1\n"
          ],
          "name": "stdout"
        }
      ]
    },
    {
      "cell_type": "markdown",
      "metadata": {
        "id": "64OTkVhx-QZR",
        "colab_type": "text"
      },
      "source": [
        "**Fit the BernoulliNB Classifier:**"
      ]
    },
    {
      "cell_type": "code",
      "metadata": {
        "id": "329RC4Ce87YP",
        "colab_type": "code",
        "colab": {}
      },
      "source": [
        "classifier=BernoulliNB().fit(train_documents,train_label)"
      ],
      "execution_count": 0,
      "outputs": []
    },
    {
      "cell_type": "markdown",
      "metadata": {
        "id": "GyHDo8RR-er9",
        "colab_type": "text"
      },
      "source": [
        "**Create a function to output the Sentiment Analysis Label of a sentence:**"
      ]
    },
    {
      "cell_type": "code",
      "metadata": {
        "id": "U230WXPh-Wsk",
        "colab_type": "code",
        "colab": {}
      },
      "source": [
        "def predictionOutput(sentence):\n",
        "  prediction=classifier.predict(count_vectorizer.transform([sentence]))\n",
        "  if (prediction[0]==1):\n",
        "    print('Positive Sentiment Sentence')\n",
        "  elif (prediction[0]==0):\n",
        "    print(\"Nagative Sentiment Sentence\")"
      ],
      "execution_count": 0,
      "outputs": []
    },
    {
      "cell_type": "markdown",
      "metadata": {
        "id": "ir3xCIH3_Xpf",
        "colab_type": "text"
      },
      "source": [
        "# Testing Model\n"
      ]
    },
    {
      "cell_type": "code",
      "metadata": {
        "id": "EF5oGI2Q_Wg9",
        "colab_type": "code",
        "outputId": "060887fc-3412-4272-816a-d5a8068df6ff",
        "colab": {
          "base_uri": "https://localhost:8080/",
          "height": 33
        }
      },
      "source": [
        "predictionOutput(\"I love this book\")"
      ],
      "execution_count": 0,
      "outputs": [
        {
          "output_type": "stream",
          "text": [
            "Positive Sentiment Sentence\n"
          ],
          "name": "stdout"
        }
      ]
    },
    {
      "cell_type": "code",
      "metadata": {
        "id": "X41_TgUU_iEv",
        "colab_type": "code",
        "outputId": "00f149df-69b1-4d95-9cc5-68eb97f5c56c",
        "colab": {
          "base_uri": "https://localhost:8080/",
          "height": 33
        }
      },
      "source": [
        "predictionOutput(\"This is the most beatiful movie ever!\")"
      ],
      "execution_count": 0,
      "outputs": [
        {
          "output_type": "stream",
          "text": [
            "Positive Sentiment Sentence\n"
          ],
          "name": "stdout"
        }
      ]
    },
    {
      "cell_type": "code",
      "metadata": {
        "id": "B4K1NTOe_qWv",
        "colab_type": "code",
        "outputId": "fe8afdb4-35d0-46be-8047-f9ede57eb064",
        "colab": {
          "base_uri": "https://localhost:8080/",
          "height": 33
        }
      },
      "source": [
        "predictionOutput(\"Never go on it again!\")"
      ],
      "execution_count": 0,
      "outputs": [
        {
          "output_type": "stream",
          "text": [
            "Nagative Sentiment Sentence\n"
          ],
          "name": "stdout"
        }
      ]
    }
  ]
}